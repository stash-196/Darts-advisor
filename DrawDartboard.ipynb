{
 "cells": [
  {
   "cell_type": "code",
   "execution_count": 7,
   "metadata": {},
   "outputs": [
    {
     "name": "stdout",
     "output_type": "stream",
     "text": [
      "/Users/tomonagasutashu/anaconda3/bin/python\n"
     ]
    }
   ],
   "source": [
    "import cv2\n",
    "import numpy as np\n",
    "from PIL import Image, ImageFilter, ImageChops\n",
    "from . import PIL_CV2\n",
    "from PIL_CV2 import cv2pil, pil2cv\n",
    "\n",
    "import sys\n",
    "path = sys.path\n",
    "print(sys.executable)"
   ]
  },
  {
   "cell_type": "code",
   "execution_count": 2,
   "metadata": {},
   "outputs": [
    {
     "name": "stdout",
     "output_type": "stream",
     "text": [
      "(4032, 3024, 3)\n",
      "3024\n"
     ]
    }
   ],
   "source": [
    "board = cv2.imread('dart-board.jpg')\n",
    "# img = cv2.imread('redrose.jpg')\n",
    "print(board.shape)\n",
    "gray = cv2.cvtColor(board, cv2.COLOR_BGR2GRAY)\n",
    "print(gray[0].size)"
   ]
  },
  {
   "cell_type": "code",
   "execution_count": null,
   "metadata": {},
   "outputs": [],
   "source": [
    "downsize_ratio = 4\n",
    "dim = (int(board.shape[0]/downsize_ratio), int(board.shape[1]/downsize_ratio))\n",
    "resized = cv2.resize(board, dim, interpolation = cv2.INTER_AREA)\n",
    "\n",
    "cv2.imshow('board', board)\n",
    "# cv2.imshow('resized-board', resized)\n",
    "\n",
    "cv2.waitKey()\n",
    "cv2.destroyAllWindows()\n",
    "print('exitting image')"
   ]
  },
  {
   "cell_type": "code",
   "execution_count": null,
   "metadata": {},
   "outputs": [],
   "source": []
  }
 ],
 "metadata": {
  "kernelspec": {
   "display_name": "Python 3",
   "language": "python",
   "name": "python3"
  },
  "language_info": {
   "codemirror_mode": {
    "name": "ipython",
    "version": 3
   },
   "file_extension": ".py",
   "mimetype": "text/x-python",
   "name": "python",
   "nbconvert_exporter": "python",
   "pygments_lexer": "ipython3",
   "version": "3.7.4"
  }
 },
 "nbformat": 4,
 "nbformat_minor": 2
}
