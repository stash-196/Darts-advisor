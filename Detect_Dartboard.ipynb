{
 "cells": [
  {
   "cell_type": "code",
   "execution_count": 4,
   "metadata": {},
   "outputs": [],
   "source": [
    "import cv2\n",
    "import numpy as np\n",
    "from PIL import Image, ImageFilter, ImageChops\n",
    "from PIL_CV2 import cv2pil, pil2cv\n",
    "\n",
    "import sys\n",
    "path = sys.path\n",
    "# print(path)"
   ]
  },
  {
   "cell_type": "code",
   "execution_count": 6,
   "metadata": {},
   "outputs": [
    {
     "name": "stdout",
     "output_type": "stream",
     "text": "(720, 1080, 3)\n600\n"
    }
   ],
   "source": [
    "img = cv2.imread('materials/0104.1.jpg')\n",
    "# img = cv2.imread('materials/redrose.jpg')\n",
    "print(img.shape)\n",
    "img = img[100:680,200:800,:]\n",
    "gray = cv2.cvtColor(img, cv2.COLOR_BGR2GRAY)\n",
    "print(gray[0].size)"
   ]
  },
  {
   "cell_type": "code",
   "execution_count": 7,
   "metadata": {},
   "outputs": [
    {
     "name": "stdout",
     "output_type": "stream",
     "text": "exitting image\n"
    }
   ],
   "source": [
    "# get RED Mask\n",
    "# subtract white background\n",
    "sub_red = img[:,:,2] - gray\n",
    "for i in range(sub_red[0].size):\n",
    "    for j in range(sub_red[:,0].size):\n",
    "        if sub_red[j,i] > img[j,i,2]:\n",
    "            sub_red[j,i] = 0\n",
    "\n",
    "ret, red_th = cv2.threshold(sub_red, 35, 255, cv2.THRESH_BINARY)\n",
    "cv2.imshow('sub_red', red_th)\n",
    "cv2.waitKey()\n",
    "cv2.destroyAllWindows()\n",
    "print('exitting image')"
   ]
  },
  {
   "cell_type": "code",
   "execution_count": null,
   "metadata": {},
   "outputs": [],
   "source": [
    "# get GREEN Mask\n",
    "# subtract white background\n",
    "sub_green = img[:,:,1] - gray\n",
    "for i in range(sub_green[0].size):\n",
    "    for j in range(sub_green[:,0].size):\n",
    "        if sub_green[j,i] > img[j,i,1]:\n",
    "            sub_green[j,i] = 0\n",
    "\n",
    "ret, green_th = cv2.threshold(sub_green, 5, 255, cv2.THRESH_BINARY)\n",
    "cv2.imshow('origin', img)\n",
    "cv2.imshow('sub_green', green_th)\n",
    "cv2.waitKey()\n",
    "cv2.destroyAllWindows()\n",
    "print('exitting image')"
   ]
  },
  {
   "cell_type": "code",
   "execution_count": 10,
   "metadata": {},
   "outputs": [],
   "source": [
    "cv2.destroyAllWindows()"
   ]
  },
  {
   "cell_type": "code",
   "execution_count": 8,
   "metadata": {},
   "outputs": [],
   "source": []
  },
  {
   "cell_type": "code",
   "execution_count": null,
   "metadata": {},
   "outputs": [],
   "source": []
  }
 ],
 "metadata": {
  "kernelspec": {
   "display_name": "Python 3",
   "language": "python",
   "name": "python3"
  },
  "language_info": {
   "codemirror_mode": {
    "name": "ipython",
    "version": 3
   },
   "file_extension": ".py",
   "mimetype": "text/x-python",
   "name": "python",
   "nbconvert_exporter": "python",
   "pygments_lexer": "ipython3",
   "version": "3.7.4"
  }
 },
 "nbformat": 4,
 "nbformat_minor": 2
}